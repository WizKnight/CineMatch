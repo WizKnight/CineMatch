{
 "cells": [
  {
   "cell_type": "code",
   "execution_count": 29,
   "metadata": {},
   "outputs": [],
   "source": [
    "import pandas as pd\n",
    "from tqdm import tqdm\n",
    "import os\n",
    "import ast\n",
    "from transformers import pipeline, AutoTokenizer, AutoModelForTokenClassification\n",
    "import torch\n",
    "from torch.utils.data import Dataset, DataLoader\n",
    "\n",
    "import warnings\n",
    "warnings.filterwarnings('ignore')"
   ]
  },
  {
   "cell_type": "code",
   "execution_count": 30,
   "metadata": {},
   "outputs": [
    {
     "name": "stdout",
     "output_type": "stream",
     "text": [
      "Using device: cuda\n"
     ]
    }
   ],
   "source": [
    "# Check if GPU is available\n",
    "device = torch.device('cuda' if torch.cuda.is_available() else 'cpu')\n",
    "print(f\"Using device: {device}\")"
   ]
  },
  {
   "cell_type": "markdown",
   "metadata": {},
   "source": [
    "**Loading The Data**"
   ]
  },
  {
   "cell_type": "code",
   "execution_count": 18,
   "metadata": {},
   "outputs": [],
   "source": [
    "current_directory = os.getcwd()\n",
    "file_path = os.path.join(current_directory,\"data\", \"raw\", \"final_movie_data.csv\")\n",
    "\n",
    "try:\n",
    "    df = pd.read_csv(file_path)\n",
    "except FileNotFoundError:\n",
    "    print(f\"File not found: {file_path}\")"
   ]
  },
  {
   "cell_type": "code",
   "execution_count": 19,
   "metadata": {},
   "outputs": [
    {
     "data": {
      "text/html": [
       "<div>\n",
       "<style scoped>\n",
       "    .dataframe tbody tr th:only-of-type {\n",
       "        vertical-align: middle;\n",
       "    }\n",
       "\n",
       "    .dataframe tbody tr th {\n",
       "        vertical-align: top;\n",
       "    }\n",
       "\n",
       "    .dataframe thead th {\n",
       "        text-align: right;\n",
       "    }\n",
       "</style>\n",
       "<table border=\"1\" class=\"dataframe\">\n",
       "  <thead>\n",
       "    <tr style=\"text-align: right;\">\n",
       "      <th></th>\n",
       "      <th>title</th>\n",
       "      <th>overview</th>\n",
       "      <th>release_date</th>\n",
       "      <th>genres</th>\n",
       "      <th>runtime</th>\n",
       "      <th>rating</th>\n",
       "      <th>cast</th>\n",
       "    </tr>\n",
       "  </thead>\n",
       "  <tbody>\n",
       "    <tr>\n",
       "      <th>0</th>\n",
       "      <td>Deadpool &amp; Wolverine</td>\n",
       "      <td>A listless Wade Wilson toils away in civilian ...</td>\n",
       "      <td>2024-07-24</td>\n",
       "      <td>['Action', 'Comedy', 'Science Fiction']</td>\n",
       "      <td>128</td>\n",
       "      <td>7.982</td>\n",
       "      <td>['Ryan Reynolds', 'Hugh Jackman', 'Emma Corrin...</td>\n",
       "    </tr>\n",
       "    <tr>\n",
       "      <th>1</th>\n",
       "      <td>Bad Boys: Ride or Die</td>\n",
       "      <td>After their late former Captain is framed, Low...</td>\n",
       "      <td>2024-06-05</td>\n",
       "      <td>['Action', 'Crime', 'Thriller', 'Comedy']</td>\n",
       "      <td>115</td>\n",
       "      <td>7.670</td>\n",
       "      <td>['Will Smith', 'Martin Lawrence', 'Vanessa Hud...</td>\n",
       "    </tr>\n",
       "    <tr>\n",
       "      <th>2</th>\n",
       "      <td>Inside Out 2</td>\n",
       "      <td>Teenager Riley's mind headquarters is undergoi...</td>\n",
       "      <td>2024-06-11</td>\n",
       "      <td>['Animation', 'Family', 'Adventure', 'Comedy']</td>\n",
       "      <td>97</td>\n",
       "      <td>7.637</td>\n",
       "      <td>[\"Lupita Nyong'o\", 'Joseph Quinn', 'Alex Wolff...</td>\n",
       "    </tr>\n",
       "    <tr>\n",
       "      <th>3</th>\n",
       "      <td>Despicable Me 4</td>\n",
       "      <td>Gru and Lucy and their girls — Margo, Edith an...</td>\n",
       "      <td>2024-06-20</td>\n",
       "      <td>['Animation', 'Family', 'Comedy', 'Action']</td>\n",
       "      <td>94</td>\n",
       "      <td>7.212</td>\n",
       "      <td>['Amy Poehler', 'Maya Hawke', 'Kensington Tall...</td>\n",
       "    </tr>\n",
       "    <tr>\n",
       "      <th>4</th>\n",
       "      <td>A Quiet Place: Day One</td>\n",
       "      <td>As New York City is invaded by alien creatures...</td>\n",
       "      <td>2024-06-26</td>\n",
       "      <td>['Horror', 'Science Fiction', 'Thriller']</td>\n",
       "      <td>99</td>\n",
       "      <td>7.017</td>\n",
       "      <td>['Steve Carell', 'Kristen Wiig', 'Joey King', ...</td>\n",
       "    </tr>\n",
       "  </tbody>\n",
       "</table>\n",
       "</div>"
      ],
      "text/plain": [
       "                    title                                           overview  \\\n",
       "0    Deadpool & Wolverine  A listless Wade Wilson toils away in civilian ...   \n",
       "1   Bad Boys: Ride or Die  After their late former Captain is framed, Low...   \n",
       "2            Inside Out 2  Teenager Riley's mind headquarters is undergoi...   \n",
       "3         Despicable Me 4  Gru and Lucy and their girls — Margo, Edith an...   \n",
       "4  A Quiet Place: Day One  As New York City is invaded by alien creatures...   \n",
       "\n",
       "  release_date                                          genres  runtime  \\\n",
       "0   2024-07-24         ['Action', 'Comedy', 'Science Fiction']      128   \n",
       "1   2024-06-05       ['Action', 'Crime', 'Thriller', 'Comedy']      115   \n",
       "2   2024-06-11  ['Animation', 'Family', 'Adventure', 'Comedy']       97   \n",
       "3   2024-06-20     ['Animation', 'Family', 'Comedy', 'Action']       94   \n",
       "4   2024-06-26       ['Horror', 'Science Fiction', 'Thriller']       99   \n",
       "\n",
       "   rating                                               cast  \n",
       "0   7.982  ['Ryan Reynolds', 'Hugh Jackman', 'Emma Corrin...  \n",
       "1   7.670  ['Will Smith', 'Martin Lawrence', 'Vanessa Hud...  \n",
       "2   7.637  [\"Lupita Nyong'o\", 'Joseph Quinn', 'Alex Wolff...  \n",
       "3   7.212  ['Amy Poehler', 'Maya Hawke', 'Kensington Tall...  \n",
       "4   7.017  ['Steve Carell', 'Kristen Wiig', 'Joey King', ...  "
      ]
     },
     "execution_count": 19,
     "metadata": {},
     "output_type": "execute_result"
    }
   ],
   "source": [
    "df.head()"
   ]
  },
  {
   "cell_type": "code",
   "execution_count": 124,
   "metadata": {},
   "outputs": [
    {
     "data": {
      "text/plain": [
       "title                  0\n",
       "overview              25\n",
       "release_date           7\n",
       "genres                 0\n",
       "runtime                0\n",
       "rating                 0\n",
       "cast                   0\n",
       "text_for_ner           0\n",
       "extracted_entities     0\n",
       "dtype: int64"
      ]
     },
     "execution_count": 124,
     "metadata": {},
     "output_type": "execute_result"
    }
   ],
   "source": [
    "df.isna().sum()"
   ]
  },
  {
   "cell_type": "code",
   "execution_count": 20,
   "metadata": {},
   "outputs": [],
   "source": [
    "## Converting cast and genres columns to list\n",
    "df['cast'] = df['cast'].apply(lambda x: ast.literal_eval(x) if isinstance(x, str) else [])\n",
    "df['genres'] = df['genres'].apply(lambda x: ast.literal_eval(x) if isinstance(x, str) else [])\n"
   ]
  },
  {
   "cell_type": "code",
   "execution_count": 100,
   "metadata": {},
   "outputs": [
    {
     "data": {
      "text/plain": [
       "['Ryan Reynolds',\n",
       " 'Hugh Jackman',\n",
       " 'Emma Corrin',\n",
       " 'Matthew Macfadyen',\n",
       " 'Dafne Keen']"
      ]
     },
     "execution_count": 100,
     "metadata": {},
     "output_type": "execute_result"
    }
   ],
   "source": [
    "df['cast'][0]"
   ]
  },
  {
   "cell_type": "code",
   "execution_count": 101,
   "metadata": {},
   "outputs": [
    {
     "data": {
      "text/plain": [
       "0         [Action, Comedy, Science Fiction]\n",
       "1         [Action, Crime, Thriller, Comedy]\n",
       "2    [Animation, Family, Adventure, Comedy]\n",
       "3       [Animation, Family, Comedy, Action]\n",
       "4       [Horror, Science Fiction, Thriller]\n",
       "Name: genres, dtype: object"
      ]
     },
     "execution_count": 101,
     "metadata": {},
     "output_type": "execute_result"
    }
   ],
   "source": [
    "df['genres'].head()"
   ]
  },
  {
   "cell_type": "code",
   "execution_count": 108,
   "metadata": {},
   "outputs": [],
   "source": [
    "## Combining text fields for NER\n",
    "#df['text_for_ner'] = df['genres'].apply(lambda x: ' '.join(x)) + ' ' + df['cast'].apply(lambda x: ' '.join(x))"
   ]
  },
  {
   "cell_type": "markdown",
   "metadata": {},
   "source": [
    "**Defining the Dataset**"
   ]
  },
  {
   "cell_type": "code",
   "execution_count": 83,
   "metadata": {},
   "outputs": [],
   "source": [
    "#class MovieDataset(Dataset):\n",
    "#    def __init__(self, texts, tokenizer, max_length=128):\n",
    "#        self.texts = texts\n",
    "#        self.tokenizer = tokenizer\n",
    "#        self.max_length = max_length\n",
    "        \n",
    "        \n",
    "#    def __len__(self):\n",
    "#        return len(self.texts)\n",
    "    \n",
    "    \n",
    "#    def __getitem__(self, idx):\n",
    "#        text = self.texts[idx]\n",
    "        \n",
    "#        encoding = self.tokenizer(\n",
    "#            text,\n",
    "#            return_tensors=\"pt\",\n",
    "#            max_length=self.max_length,\n",
    "#            truncation=True,\n",
    "#            padding=\"max_length\"\n",
    "#        )\n",
    "#        return encoding"
   ]
  },
  {
   "cell_type": "markdown",
   "metadata": {},
   "source": [
    "**Model Setup**"
   ]
  },
  {
   "cell_type": "code",
   "execution_count": 103,
   "metadata": {},
   "outputs": [
    {
     "name": "stderr",
     "output_type": "stream",
     "text": [
      "Some weights of the model checkpoint at dslim/bert-base-NER were not used when initializing BertForTokenClassification: ['bert.pooler.dense.bias', 'bert.pooler.dense.weight']\n",
      "- This IS expected if you are initializing BertForTokenClassification from the checkpoint of a model trained on another task or with another architecture (e.g. initializing a BertForSequenceClassification model from a BertForPreTraining model).\n",
      "- This IS NOT expected if you are initializing BertForTokenClassification from the checkpoint of a model that you expect to be exactly identical (initializing a BertForSequenceClassification model from a BertForSequenceClassification model).\n"
     ]
    }
   ],
   "source": [
    "# Pre-trained Model\n",
    "model_name = \"dslim/bert-base-NER\"\n",
    "\n",
    "tokenizer = AutoTokenizer.from_pretrained(model_name)\n",
    "model = AutoModelForTokenClassification.from_pretrained(model_name)"
   ]
  },
  {
   "cell_type": "markdown",
   "metadata": {},
   "source": [
    "**NER Pipeline**"
   ]
  },
  {
   "cell_type": "code",
   "execution_count": 104,
   "metadata": {},
   "outputs": [
    {
     "name": "stderr",
     "output_type": "stream",
     "text": [
      "Hardware accelerator e.g. GPU is available in the environment, but no `device` argument is passed to the `Pipeline` object. Model will be on CPU.\n"
     ]
    }
   ],
   "source": [
    "ner_pipeline = pipeline(\"ner\", model=model, tokenizer=tokenizer, aggregation_strategy=\"simple\")"
   ]
  },
  {
   "cell_type": "markdown",
   "metadata": {},
   "source": [
    "**NER Inference**"
   ]
  },
  {
   "cell_type": "code",
   "execution_count": 105,
   "metadata": {},
   "outputs": [],
   "source": [
    "def extract_entities(genres, cast, title):\n",
    "    extracted_entities = {'PER': [], 'GEN': [], 'MOV': []} \n",
    "\n",
    "    # Map genres to 'GEN'\n",
    "    for genre in genres:\n",
    "        extracted_entities['GEN'].append(genre)\n",
    "\n",
    "    # Map cast members to 'PER'\n",
    "    for actor in cast:\n",
    "        extracted_entities['PER'].append(actor)\n",
    "\n",
    "    # Add movie title to 'MOV'\n",
    "    extracted_entities['MOV'].append(title)\n",
    "\n",
    "    return extracted_entities"
   ]
  },
  {
   "cell_type": "markdown",
   "metadata": {},
   "source": [
    "**Apply NER to DataFrame**"
   ]
  },
  {
   "cell_type": "code",
   "execution_count": 106,
   "metadata": {},
   "outputs": [],
   "source": [
    "df['extracted_entities'] = df.apply(lambda row: extract_entities(row['genres'], row['cast'], row['title']), axis=1)"
   ]
  },
  {
   "cell_type": "code",
   "execution_count": 107,
   "metadata": {},
   "outputs": [
    {
     "data": {
      "text/plain": [
       "{'PER': ['Steve Carell',\n",
       "  'Kristen Wiig',\n",
       "  'Joey King',\n",
       "  'Will Ferrell',\n",
       "  'Sofía Vergara'],\n",
       " 'GEN': ['Horror', 'Science Fiction', 'Thriller'],\n",
       " 'MOV': ['A Quiet Place: Day One']}"
      ]
     },
     "execution_count": 107,
     "metadata": {},
     "output_type": "execute_result"
    }
   ],
   "source": [
    "df['extracted_entities'][4]"
   ]
  },
  {
   "cell_type": "code",
   "execution_count": 121,
   "metadata": {},
   "outputs": [
    {
     "data": {
      "text/html": [
       "<div>\n",
       "<style scoped>\n",
       "    .dataframe tbody tr th:only-of-type {\n",
       "        vertical-align: middle;\n",
       "    }\n",
       "\n",
       "    .dataframe tbody tr th {\n",
       "        vertical-align: top;\n",
       "    }\n",
       "\n",
       "    .dataframe thead th {\n",
       "        text-align: right;\n",
       "    }\n",
       "</style>\n",
       "<table border=\"1\" class=\"dataframe\">\n",
       "  <thead>\n",
       "    <tr style=\"text-align: right;\">\n",
       "      <th></th>\n",
       "      <th>title</th>\n",
       "      <th>overview</th>\n",
       "      <th>release_date</th>\n",
       "      <th>genres</th>\n",
       "      <th>runtime</th>\n",
       "      <th>rating</th>\n",
       "      <th>cast</th>\n",
       "      <th>text_for_ner</th>\n",
       "      <th>extracted_entities</th>\n",
       "    </tr>\n",
       "  </thead>\n",
       "  <tbody>\n",
       "    <tr>\n",
       "      <th>4025</th>\n",
       "      <td>The Philadelphia Experiment</td>\n",
       "      <td>A secret government research project tries rev...</td>\n",
       "      <td>2012-07-27</td>\n",
       "      <td>[Adventure, Science Fiction, Thriller, Mystery]</td>\n",
       "      <td>85</td>\n",
       "      <td>4.863</td>\n",
       "      <td>[Otto Fahlgren, Alexandra Gjerpen, Mads Sjøgår...</td>\n",
       "      <td>Adventure Science Fiction Thriller Mystery Ott...</td>\n",
       "      <td>{'PER': ['Otto Fahlgren', 'Alexandra Gjerpen',...</td>\n",
       "    </tr>\n",
       "  </tbody>\n",
       "</table>\n",
       "</div>"
      ],
      "text/plain": [
       "                            title  \\\n",
       "4025  The Philadelphia Experiment   \n",
       "\n",
       "                                               overview release_date  \\\n",
       "4025  A secret government research project tries rev...   2012-07-27   \n",
       "\n",
       "                                               genres  runtime  rating  \\\n",
       "4025  [Adventure, Science Fiction, Thriller, Mystery]       85   4.863   \n",
       "\n",
       "                                                   cast  \\\n",
       "4025  [Otto Fahlgren, Alexandra Gjerpen, Mads Sjøgår...   \n",
       "\n",
       "                                           text_for_ner  \\\n",
       "4025  Adventure Science Fiction Thriller Mystery Ott...   \n",
       "\n",
       "                                     extracted_entities  \n",
       "4025  {'PER': ['Otto Fahlgren', 'Alexandra Gjerpen',...  "
      ]
     },
     "execution_count": 121,
     "metadata": {},
     "output_type": "execute_result"
    }
   ],
   "source": [
    "df.sample()"
   ]
  },
  {
   "cell_type": "code",
   "execution_count": 122,
   "metadata": {},
   "outputs": [
    {
     "name": "stdout",
     "output_type": "stream",
     "text": [
      "NER completed and data saved!\n"
     ]
    }
   ],
   "source": [
    "directory = \"E:\\\\Git Uploads\\\\CineMatch\\\\notebook\\\\data\\\\processed\"\n",
    "df.to_csv(os.path.join(directory, \"movies_with_entities.csv\"), index=False)\n",
    "\n",
    "print(\"NER completed and data saved!\")"
   ]
  },
  {
   "cell_type": "markdown",
   "metadata": {},
   "source": [
    "## Feature Engineering"
   ]
  },
  {
   "cell_type": "markdown",
   "metadata": {},
   "source": [
    "**OHE For Genres**"
   ]
  },
  {
   "cell_type": "code",
   "execution_count": 109,
   "metadata": {},
   "outputs": [],
   "source": [
    "from sklearn.preprocessing import MultiLabelBinarizer\n",
    "\n",
    "mlb = MultiLabelBinarizer()\n",
    "genre_features = mlb.fit_transform(df['genres'])\n",
    "genre_df = pd.DataFrame(genre_features, columns=mlb.classes_)"
   ]
  },
  {
   "cell_type": "code",
   "execution_count": 110,
   "metadata": {},
   "outputs": [
    {
     "data": {
      "text/html": [
       "<div>\n",
       "<style scoped>\n",
       "    .dataframe tbody tr th:only-of-type {\n",
       "        vertical-align: middle;\n",
       "    }\n",
       "\n",
       "    .dataframe tbody tr th {\n",
       "        vertical-align: top;\n",
       "    }\n",
       "\n",
       "    .dataframe thead th {\n",
       "        text-align: right;\n",
       "    }\n",
       "</style>\n",
       "<table border=\"1\" class=\"dataframe\">\n",
       "  <thead>\n",
       "    <tr style=\"text-align: right;\">\n",
       "      <th></th>\n",
       "      <th>Action</th>\n",
       "      <th>Adventure</th>\n",
       "      <th>Animation</th>\n",
       "      <th>Comedy</th>\n",
       "      <th>Crime</th>\n",
       "      <th>Documentary</th>\n",
       "      <th>Drama</th>\n",
       "      <th>Family</th>\n",
       "      <th>Fantasy</th>\n",
       "      <th>History</th>\n",
       "      <th>Horror</th>\n",
       "      <th>Music</th>\n",
       "      <th>Mystery</th>\n",
       "      <th>Romance</th>\n",
       "      <th>Science Fiction</th>\n",
       "      <th>TV Movie</th>\n",
       "      <th>Thriller</th>\n",
       "      <th>War</th>\n",
       "      <th>Western</th>\n",
       "    </tr>\n",
       "  </thead>\n",
       "  <tbody>\n",
       "    <tr>\n",
       "      <th>1245</th>\n",
       "      <td>1</td>\n",
       "      <td>1</td>\n",
       "      <td>0</td>\n",
       "      <td>0</td>\n",
       "      <td>0</td>\n",
       "      <td>0</td>\n",
       "      <td>0</td>\n",
       "      <td>0</td>\n",
       "      <td>1</td>\n",
       "      <td>0</td>\n",
       "      <td>0</td>\n",
       "      <td>0</td>\n",
       "      <td>0</td>\n",
       "      <td>0</td>\n",
       "      <td>0</td>\n",
       "      <td>0</td>\n",
       "      <td>0</td>\n",
       "      <td>0</td>\n",
       "      <td>0</td>\n",
       "    </tr>\n",
       "  </tbody>\n",
       "</table>\n",
       "</div>"
      ],
      "text/plain": [
       "      Action  Adventure  Animation  Comedy  Crime  Documentary  Drama  Family  \\\n",
       "1245       1          1          0       0      0            0      0       0   \n",
       "\n",
       "      Fantasy  History  Horror  Music  Mystery  Romance  Science Fiction  \\\n",
       "1245        1        0       0      0        0        0                0   \n",
       "\n",
       "      TV Movie  Thriller  War  Western  \n",
       "1245         0         0    0        0  "
      ]
     },
     "execution_count": 110,
     "metadata": {},
     "output_type": "execute_result"
    }
   ],
   "source": [
    "genre_df.sample()"
   ]
  },
  {
   "cell_type": "markdown",
   "metadata": {},
   "source": [
    "**Encoding for Cast**"
   ]
  },
  {
   "cell_type": "code",
   "execution_count": 111,
   "metadata": {},
   "outputs": [],
   "source": [
    "mlb_cast = MultiLabelBinarizer()\n",
    "cast_features = mlb_cast.fit_transform(df['cast'])\n",
    "cast_df = pd.DataFrame(cast_features, columns=mlb_cast.classes_)"
   ]
  },
  {
   "cell_type": "code",
   "execution_count": 113,
   "metadata": {},
   "outputs": [
    {
     "data": {
      "text/html": [
       "<div>\n",
       "<style scoped>\n",
       "    .dataframe tbody tr th:only-of-type {\n",
       "        vertical-align: middle;\n",
       "    }\n",
       "\n",
       "    .dataframe tbody tr th {\n",
       "        vertical-align: top;\n",
       "    }\n",
       "\n",
       "    .dataframe thead th {\n",
       "        text-align: right;\n",
       "    }\n",
       "</style>\n",
       "<table border=\"1\" class=\"dataframe\">\n",
       "  <thead>\n",
       "    <tr style=\"text-align: right;\">\n",
       "      <th></th>\n",
       "      <th>'Weird Al' Yankovic</th>\n",
       "      <th>50 Cent</th>\n",
       "      <th>A.J. Cook</th>\n",
       "      <th>A.J. Cutler</th>\n",
       "      <th>A.J. Del Cueto</th>\n",
       "      <th>A.J. Langer</th>\n",
       "      <th>A.J. Lister</th>\n",
       "      <th>AJ Raval</th>\n",
       "      <th>Aaliyah</th>\n",
       "      <th>Aamir Khan</th>\n",
       "      <th>...</th>\n",
       "      <th>刘校妤</th>\n",
       "      <th>拉宏</th>\n",
       "      <th>李尚恩</th>\n",
       "      <th>楊奉琛</th>\n",
       "      <th>楊英風</th>\n",
       "      <th>神林恆道</th>\n",
       "      <th>蕭瓊瑞</th>\n",
       "      <th>釋寬謙</th>\n",
       "      <th>권성혁</th>\n",
       "      <th>유호한</th>\n",
       "    </tr>\n",
       "  </thead>\n",
       "  <tbody>\n",
       "    <tr>\n",
       "      <th>1074</th>\n",
       "      <td>0</td>\n",
       "      <td>0</td>\n",
       "      <td>0</td>\n",
       "      <td>0</td>\n",
       "      <td>0</td>\n",
       "      <td>0</td>\n",
       "      <td>0</td>\n",
       "      <td>0</td>\n",
       "      <td>0</td>\n",
       "      <td>0</td>\n",
       "      <td>...</td>\n",
       "      <td>0</td>\n",
       "      <td>0</td>\n",
       "      <td>0</td>\n",
       "      <td>0</td>\n",
       "      <td>0</td>\n",
       "      <td>0</td>\n",
       "      <td>0</td>\n",
       "      <td>0</td>\n",
       "      <td>0</td>\n",
       "      <td>0</td>\n",
       "    </tr>\n",
       "  </tbody>\n",
       "</table>\n",
       "<p>1 rows × 12198 columns</p>\n",
       "</div>"
      ],
      "text/plain": [
       "      'Weird Al' Yankovic  50 Cent  A.J. Cook  A.J. Cutler  A.J. Del Cueto  \\\n",
       "1074                    0        0          0            0               0   \n",
       "\n",
       "      A.J. Langer  A.J. Lister  AJ Raval  Aaliyah  Aamir Khan  ...  刘校妤  拉宏  \\\n",
       "1074            0            0         0        0           0  ...    0   0   \n",
       "\n",
       "      李尚恩  楊奉琛  楊英風  神林恆道  蕭瓊瑞  釋寬謙  권성혁  유호한  \n",
       "1074    0    0    0     0    0    0    0    0  \n",
       "\n",
       "[1 rows x 12198 columns]"
      ]
     },
     "execution_count": 113,
     "metadata": {},
     "output_type": "execute_result"
    }
   ],
   "source": [
    "cast_df.sample()"
   ]
  },
  {
   "cell_type": "markdown",
   "metadata": {},
   "source": [
    "**Combining Features**"
   ]
  },
  {
   "cell_type": "code",
   "execution_count": 114,
   "metadata": {},
   "outputs": [],
   "source": [
    "features_matrix = pd.concat([genre_df, cast_df], axis=1)"
   ]
  },
  {
   "cell_type": "code",
   "execution_count": 118,
   "metadata": {},
   "outputs": [
    {
     "name": "stdout",
     "output_type": "stream",
     "text": [
      "<class 'pandas.core.series.Series'>\n",
      "RangeIndex: 5000 entries, 0 to 4999\n",
      "Series name: release_date\n",
      "Non-Null Count  Dtype         \n",
      "--------------  -----         \n",
      "4993 non-null   datetime64[ns]\n",
      "dtypes: datetime64[ns](1)\n",
      "memory usage: 39.2 KB\n"
     ]
    }
   ],
   "source": [
    "df['release_date'] = pd.to_datetime(df['release_date'])\n",
    "\n",
    "df['release_date'].info()"
   ]
  },
  {
   "cell_type": "code",
   "execution_count": 119,
   "metadata": {},
   "outputs": [],
   "source": [
    "features_matrix['release_year'] = df['release_date'].dt.year \n",
    "features_matrix['rating'] = df['rating']"
   ]
  },
  {
   "cell_type": "code",
   "execution_count": 126,
   "metadata": {},
   "outputs": [
    {
     "data": {
      "text/plain": [
       "Action          0\n",
       "Adventure       0\n",
       "Animation       0\n",
       "Comedy          0\n",
       "Crime           0\n",
       "               ..\n",
       "釋寬謙             0\n",
       "권성혁             0\n",
       "유호한             0\n",
       "release_year    7\n",
       "rating          0\n",
       "Length: 12219, dtype: int64"
      ]
     },
     "execution_count": 126,
     "metadata": {},
     "output_type": "execute_result"
    }
   ],
   "source": [
    "features_matrix.isna().sum()"
   ]
  },
  {
   "cell_type": "code",
   "execution_count": 128,
   "metadata": {},
   "outputs": [],
   "source": [
    "features_matrix.dropna(inplace=True)"
   ]
  },
  {
   "cell_type": "markdown",
   "metadata": {},
   "source": [
    "**Metrics Calculation**"
   ]
  },
  {
   "cell_type": "code",
   "execution_count": 129,
   "metadata": {},
   "outputs": [],
   "source": [
    "from sklearn.metrics.pairwise import cosine_similarity\n",
    "\n",
    "cosine_sim = cosine_similarity(features_matrix, features_matrix)"
   ]
  },
  {
   "cell_type": "markdown",
   "metadata": {},
   "source": [
    "**Content Based Filtering**"
   ]
  },
  {
   "cell_type": "code",
   "execution_count": 130,
   "metadata": {},
   "outputs": [],
   "source": [
    "def get_recommendations(title, cosine_sim=cosine_sim, top_n=10):\n",
    "    \"\"\"\n",
    "    Recommends movies based on content similarity (genres and cast).\n",
    "\n",
    "    Args:\n",
    "        title: Title of the movie for which to generate recommendations.\n",
    "        cosine_sim: The cosine similarity matrix.\n",
    "        top_n: Number of recommendations to return.\n",
    "\n",
    "    Returns:\n",
    "        A list of recommended movie titles.\n",
    "    \"\"\"\n",
    "\n",
    "    # Get the index of the movie that matches the title\n",
    "    idx = df[df['title'] == title].index[0]\n",
    "\n",
    "    # Get the pairwise similarity scores of all movies with that movie\n",
    "    sim_scores = list(enumerate(cosine_sim[idx]))\n",
    "\n",
    "    # Sort the movies based on the similarity scores\n",
    "    sim_scores = sorted(sim_scores, key=lambda x: x[1], reverse=True)\n",
    "\n",
    "    # Get the scores of the top 'top_n' most similar movies (excluding the movie itself)\n",
    "    sim_scores = sim_scores[1:top_n + 1]\n",
    "\n",
    "    # Get the movie indices\n",
    "    movie_indices = [i[0] for i in sim_scores]\n",
    "\n",
    "    # Return the top 'top_n' most similar movies\n",
    "    return df['title'].iloc[movie_indices]\n"
   ]
  },
  {
   "cell_type": "markdown",
   "metadata": {},
   "source": [
    "Test on Movies"
   ]
  },
  {
   "cell_type": "code",
   "execution_count": 131,
   "metadata": {},
   "outputs": [
    {
     "name": "stdout",
     "output_type": "stream",
     "text": [
      "\n",
      "Recommendations for Deadpool & Wolverine:\n",
      "|      | title                |\n",
      "|:-----|:---------------------|\n",
      "| 4445 | The Sentinel         |\n",
      "| 889  | Snowpiercer          |\n",
      "| 77   | Godzilla Minus One   |\n",
      "| 254  | Sonic the Hedgehog 2 |\n",
      "| 4842 | Five Blind Dates     |\n",
      "\n",
      "Recommendations for Inside Out 2:\n",
      "|      | title                |\n",
      "|:-----|:---------------------|\n",
      "| 254  | Sonic the Hedgehog 2 |\n",
      "| 852  | My Spy               |\n",
      "| 2187 | Les Misérables       |\n",
      "| 2931 | Last Looks           |\n",
      "| 718  | Gods of Egypt        |\n",
      "\n",
      "Recommendations for The Garfield Movie:\n",
      "|      | title                                             |\n",
      "|:-----|:--------------------------------------------------|\n",
      "| 254  | Sonic the Hedgehog 2                              |\n",
      "| 2187 | Les Misérables                                    |\n",
      "| 943  | Nowhere                                           |\n",
      "| 852  | My Spy                                            |\n",
      "| 4408 | Naruto the Movie: Ninja Clash in the Land of Snow |\n"
     ]
    }
   ],
   "source": [
    "movie_titles_to_test = [\"Deadpool & Wolverine\", \"Inside Out 2\", \"The Garfield Movie\"]\n",
    "\n",
    "# Get Recommendations for each movie\n",
    "for title in movie_titles_to_test:\n",
    "    recommendations = get_recommendations(title, cosine_sim, top_n=5)\n",
    "    print(f\"\\nRecommendations for {title}:\")\n",
    "    print(recommendations.to_markdown(numalign=\"left\", stralign=\"left\"))"
   ]
  },
  {
   "cell_type": "markdown",
   "metadata": {},
   "source": [
    "**TFIDF Weighting for Cast**"
   ]
  },
  {
   "cell_type": "code",
   "execution_count": 132,
   "metadata": {},
   "outputs": [],
   "source": [
    "from sklearn.feature_extraction.text import TfidfVectorizer\n",
    "\n",
    "vectorizer = TfidfVectorizer()\n",
    "cast_tfidf = vectorizer.fit_transform(df['cast'].astype(str))\n",
    "\n",
    "cast_tfidf_df = pd.DataFrame(cast_tfidf.toarray(), columns=vectorizer.get_feature_names_out())"
   ]
  },
  {
   "cell_type": "code",
   "execution_count": 134,
   "metadata": {},
   "outputs": [
    {
     "data": {
      "text/html": [
       "<div>\n",
       "<style scoped>\n",
       "    .dataframe tbody tr th:only-of-type {\n",
       "        vertical-align: middle;\n",
       "    }\n",
       "\n",
       "    .dataframe tbody tr th {\n",
       "        vertical-align: top;\n",
       "    }\n",
       "\n",
       "    .dataframe thead th {\n",
       "        text-align: right;\n",
       "    }\n",
       "</style>\n",
       "<table border=\"1\" class=\"dataframe\">\n",
       "  <thead>\n",
       "    <tr style=\"text-align: right;\">\n",
       "      <th></th>\n",
       "      <th>50</th>\n",
       "      <th>aaliyah</th>\n",
       "      <th>aamir</th>\n",
       "      <th>aarif</th>\n",
       "      <th>aaron</th>\n",
       "      <th>aarons</th>\n",
       "      <th>aaryan</th>\n",
       "      <th>aarón</th>\n",
       "      <th>aavi</th>\n",
       "      <th>aayam</th>\n",
       "      <th>...</th>\n",
       "      <th>刘校妤</th>\n",
       "      <th>拉宏</th>\n",
       "      <th>李尚恩</th>\n",
       "      <th>楊奉琛</th>\n",
       "      <th>楊英風</th>\n",
       "      <th>神林恆道</th>\n",
       "      <th>蕭瓊瑞</th>\n",
       "      <th>釋寬謙</th>\n",
       "      <th>권성혁</th>\n",
       "      <th>유호한</th>\n",
       "    </tr>\n",
       "  </thead>\n",
       "  <tbody>\n",
       "    <tr>\n",
       "      <th>1879</th>\n",
       "      <td>0.0</td>\n",
       "      <td>0.0</td>\n",
       "      <td>0.0</td>\n",
       "      <td>0.0</td>\n",
       "      <td>0.0</td>\n",
       "      <td>0.0</td>\n",
       "      <td>0.0</td>\n",
       "      <td>0.0</td>\n",
       "      <td>0.0</td>\n",
       "      <td>0.0</td>\n",
       "      <td>...</td>\n",
       "      <td>0.0</td>\n",
       "      <td>0.0</td>\n",
       "      <td>0.0</td>\n",
       "      <td>0.0</td>\n",
       "      <td>0.0</td>\n",
       "      <td>0.0</td>\n",
       "      <td>0.0</td>\n",
       "      <td>0.0</td>\n",
       "      <td>0.0</td>\n",
       "      <td>0.0</td>\n",
       "    </tr>\n",
       "  </tbody>\n",
       "</table>\n",
       "<p>1 rows × 12751 columns</p>\n",
       "</div>"
      ],
      "text/plain": [
       "       50  aaliyah  aamir  aarif  aaron  aarons  aaryan  aarón  aavi  aayam  \\\n",
       "1879  0.0      0.0    0.0    0.0    0.0     0.0     0.0    0.0   0.0    0.0   \n",
       "\n",
       "      ...  刘校妤   拉宏  李尚恩  楊奉琛  楊英風  神林恆道  蕭瓊瑞  釋寬謙  권성혁  유호한  \n",
       "1879  ...  0.0  0.0  0.0  0.0  0.0   0.0  0.0  0.0  0.0  0.0  \n",
       "\n",
       "[1 rows x 12751 columns]"
      ]
     },
     "execution_count": 134,
     "metadata": {},
     "output_type": "execute_result"
    }
   ],
   "source": [
    "cast_tfidf_df.sample()"
   ]
  },
  {
   "cell_type": "markdown",
   "metadata": {},
   "source": [
    "**Combining Features**"
   ]
  },
  {
   "cell_type": "code",
   "execution_count": 135,
   "metadata": {},
   "outputs": [],
   "source": [
    "feature_matrix = pd.concat([genre_df, cast_tfidf_df], axis=1) "
   ]
  },
  {
   "cell_type": "code",
   "execution_count": 136,
   "metadata": {},
   "outputs": [],
   "source": [
    "cosine_sim = cosine_similarity(features_matrix, features_matrix)"
   ]
  },
  {
   "cell_type": "code",
   "execution_count": 137,
   "metadata": {},
   "outputs": [
    {
     "name": "stdout",
     "output_type": "stream",
     "text": [
      "\n",
      "Recommendations for Deadpool & Wolverine:\n",
      "|      | title                |\n",
      "|:-----|:---------------------|\n",
      "| 4445 | The Sentinel         |\n",
      "| 889  | Snowpiercer          |\n",
      "| 77   | Godzilla Minus One   |\n",
      "| 254  | Sonic the Hedgehog 2 |\n",
      "| 4842 | Five Blind Dates     |\n",
      "\n",
      "Recommendations for Inside Out 2:\n",
      "|      | title                |\n",
      "|:-----|:---------------------|\n",
      "| 254  | Sonic the Hedgehog 2 |\n",
      "| 852  | My Spy               |\n",
      "| 2187 | Les Misérables       |\n",
      "| 2931 | Last Looks           |\n",
      "| 718  | Gods of Egypt        |\n",
      "\n",
      "Recommendations for The Garfield Movie:\n",
      "|      | title                                             |\n",
      "|:-----|:--------------------------------------------------|\n",
      "| 254  | Sonic the Hedgehog 2                              |\n",
      "| 2187 | Les Misérables                                    |\n",
      "| 943  | Nowhere                                           |\n",
      "| 852  | My Spy                                            |\n",
      "| 4408 | Naruto the Movie: Ninja Clash in the Land of Snow |\n"
     ]
    }
   ],
   "source": [
    "movie_titles_to_test = [\"Deadpool & Wolverine\", \"Inside Out 2\", \"The Garfield Movie\"]\n",
    "\n",
    "# Get Recommendations for each movie\n",
    "for title in movie_titles_to_test:\n",
    "    recommendations = get_recommendations(title, cosine_sim, top_n=5)\n",
    "    print(f\"\\nRecommendations for {title}:\")\n",
    "    print(recommendations.to_markdown(numalign=\"left\", stralign=\"left\"))"
   ]
  },
  {
   "cell_type": "markdown",
   "metadata": {},
   "source": [
    "**Evaluation Metrics**"
   ]
  },
  {
   "cell_type": "code",
   "execution_count": 141,
   "metadata": {},
   "outputs": [
    {
     "name": "stdout",
     "output_type": "stream",
     "text": [
      "Average Precision@10: 0.2318\n",
      "Average Recall@10: 0.8690\n"
     ]
    }
   ],
   "source": [
    "import numpy as np \n",
    "from sklearn.metrics import precision_score, recall_score\n",
    "\n",
    "def evaluate_recommendations(df, cosine_sim):\n",
    "    \"\"\"\n",
    "    Evaluates content-based recommendations using precision@k and recall@k.\n",
    "\n",
    "    Args:\n",
    "        df: The DataFrame containing movie data.\n",
    "        cosine_sim: The cosine similarity matrix.\n",
    "        top_n: Number of recommendations to consider for evaluation.\n",
    "\n",
    "    Returns:\n",
    "        Average precision@k and recall@k across all movies in the DataFrame.\n",
    "    \"\"\"\n",
    "\n",
    "    precisions = []\n",
    "    recalls = []\n",
    "\n",
    "    for i in range(cosine_sim.shape[0]):\n",
    "        # Get the movie title\n",
    "        title = df.iloc[i]['title']\n",
    "\n",
    "        # Get top 'top_n' recommendations for this movie\n",
    "        recommendations = get_recommendations(title, cosine_sim, top_n)\n",
    "\n",
    "        # Get the actual genres of the movie\n",
    "        actual_genres = set(df.iloc[i]['genres'])\n",
    "\n",
    "        # Get the genres of the recommended movies\n",
    "        recommended_genres = set([genre for movie_title in recommendations \n",
    "                                  for genre in df[df['title'] == movie_title]['genres'].iloc[0]])\n",
    "\n",
    "        # Calculate relevance: at least one genre overlap\n",
    "        relevant_recommendations = len(actual_genres.intersection(recommended_genres))\n",
    "\n",
    "        # Calculate precision@k and recall@k\n",
    "        precision = relevant_recommendations / top_n if top_n > 0 else 0\n",
    "        recall = relevant_recommendations / len(actual_genres) if len(actual_genres) > 0 else 0\n",
    "\n",
    "        precisions.append(precision)\n",
    "        recalls.append(recall)\n",
    "\n",
    "    # Calculate average precision@k and recall@k\n",
    "    avg_precision = np.mean(precisions)\n",
    "    avg_recall = np.mean(recalls)\n",
    "\n",
    "    return avg_precision, avg_recall\n",
    "\n",
    "top_n = 10\n",
    "\n",
    "# Evaluate recommendations\n",
    "avg_precision, avg_recall = evaluate_recommendations(df, cosine_sim)\n",
    "print(f\"Average Precision@{top_n}: {avg_precision:.4f}\")\n",
    "print(f\"Average Recall@{top_n}: {avg_recall:.4f}\")"
   ]
  },
  {
   "cell_type": "code",
   "execution_count": null,
   "metadata": {},
   "outputs": [],
   "source": []
  }
 ],
 "metadata": {
  "kernelspec": {
   "display_name": "Python 3",
   "language": "python",
   "name": "python3"
  },
  "language_info": {
   "codemirror_mode": {
    "name": "ipython",
    "version": 3
   },
   "file_extension": ".py",
   "mimetype": "text/x-python",
   "name": "python",
   "nbconvert_exporter": "python",
   "pygments_lexer": "ipython3",
   "version": "3.12.0"
  }
 },
 "nbformat": 4,
 "nbformat_minor": 2
}
