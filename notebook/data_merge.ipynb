{
 "cells": [
  {
   "cell_type": "code",
   "execution_count": 2,
   "metadata": {},
   "outputs": [],
   "source": [
    "import pandas as pd\n",
    "import numpy as np\n",
    "import matplotlib.pyplot as plt\n",
    "import seaborn as sns\n",
    "import os\n",
    "\n",
    "import warnings\n",
    "warnings.filterwarnings('ignore')"
   ]
  },
  {
   "cell_type": "code",
   "execution_count": 3,
   "metadata": {},
   "outputs": [],
   "source": [
    "current_directory = os.getcwd()\n",
    "file_path = os.path.join(current_directory,\"data\", \"raw\", \"movie_data.csv\")\n",
    "\n",
    "try:\n",
    "    df = pd.read_csv(file_path)\n",
    "except FileNotFoundError:\n",
    "    print(f\"File not found: {file_path}\")"
   ]
  },
  {
   "cell_type": "code",
   "execution_count": 4,
   "metadata": {},
   "outputs": [
    {
     "data": {
      "text/html": [
       "<div>\n",
       "<style scoped>\n",
       "    .dataframe tbody tr th:only-of-type {\n",
       "        vertical-align: middle;\n",
       "    }\n",
       "\n",
       "    .dataframe tbody tr th {\n",
       "        vertical-align: top;\n",
       "    }\n",
       "\n",
       "    .dataframe thead th {\n",
       "        text-align: right;\n",
       "    }\n",
       "</style>\n",
       "<table border=\"1\" class=\"dataframe\">\n",
       "  <thead>\n",
       "    <tr style=\"text-align: right;\">\n",
       "      <th></th>\n",
       "      <th>title</th>\n",
       "      <th>overview</th>\n",
       "      <th>release_date</th>\n",
       "      <th>genres</th>\n",
       "      <th>cast</th>\n",
       "      <th>runtime</th>\n",
       "      <th>rating</th>\n",
       "    </tr>\n",
       "  </thead>\n",
       "  <tbody>\n",
       "    <tr>\n",
       "      <th>0</th>\n",
       "      <td>Deadpool &amp; Wolverine</td>\n",
       "      <td>A listless Wade Wilson toils away in civilian ...</td>\n",
       "      <td>2024-07-24</td>\n",
       "      <td>['Action', 'Comedy', 'Science Fiction']</td>\n",
       "      <td>NaN</td>\n",
       "      <td>128</td>\n",
       "      <td>7.982</td>\n",
       "    </tr>\n",
       "    <tr>\n",
       "      <th>1</th>\n",
       "      <td>Bad Boys: Ride or Die</td>\n",
       "      <td>After their late former Captain is framed, Low...</td>\n",
       "      <td>2024-06-05</td>\n",
       "      <td>['Action', 'Crime', 'Thriller', 'Comedy']</td>\n",
       "      <td>NaN</td>\n",
       "      <td>115</td>\n",
       "      <td>7.670</td>\n",
       "    </tr>\n",
       "    <tr>\n",
       "      <th>2</th>\n",
       "      <td>Inside Out 2</td>\n",
       "      <td>Teenager Riley's mind headquarters is undergoi...</td>\n",
       "      <td>2024-06-11</td>\n",
       "      <td>['Animation', 'Family', 'Adventure', 'Comedy']</td>\n",
       "      <td>NaN</td>\n",
       "      <td>97</td>\n",
       "      <td>7.637</td>\n",
       "    </tr>\n",
       "    <tr>\n",
       "      <th>3</th>\n",
       "      <td>Despicable Me 4</td>\n",
       "      <td>Gru and Lucy and their girls — Margo, Edith an...</td>\n",
       "      <td>2024-06-20</td>\n",
       "      <td>['Animation', 'Family', 'Comedy', 'Action']</td>\n",
       "      <td>NaN</td>\n",
       "      <td>94</td>\n",
       "      <td>7.212</td>\n",
       "    </tr>\n",
       "    <tr>\n",
       "      <th>4</th>\n",
       "      <td>A Quiet Place: Day One</td>\n",
       "      <td>As New York City is invaded by alien creatures...</td>\n",
       "      <td>2024-06-26</td>\n",
       "      <td>['Horror', 'Science Fiction', 'Thriller']</td>\n",
       "      <td>NaN</td>\n",
       "      <td>99</td>\n",
       "      <td>7.017</td>\n",
       "    </tr>\n",
       "  </tbody>\n",
       "</table>\n",
       "</div>"
      ],
      "text/plain": [
       "                    title                                           overview  \\\n",
       "0    Deadpool & Wolverine  A listless Wade Wilson toils away in civilian ...   \n",
       "1   Bad Boys: Ride or Die  After their late former Captain is framed, Low...   \n",
       "2            Inside Out 2  Teenager Riley's mind headquarters is undergoi...   \n",
       "3         Despicable Me 4  Gru and Lucy and their girls — Margo, Edith an...   \n",
       "4  A Quiet Place: Day One  As New York City is invaded by alien creatures...   \n",
       "\n",
       "  release_date                                          genres  cast  runtime  \\\n",
       "0   2024-07-24         ['Action', 'Comedy', 'Science Fiction']   NaN      128   \n",
       "1   2024-06-05       ['Action', 'Crime', 'Thriller', 'Comedy']   NaN      115   \n",
       "2   2024-06-11  ['Animation', 'Family', 'Adventure', 'Comedy']   NaN       97   \n",
       "3   2024-06-20     ['Animation', 'Family', 'Comedy', 'Action']   NaN       94   \n",
       "4   2024-06-26       ['Horror', 'Science Fiction', 'Thriller']   NaN       99   \n",
       "\n",
       "   rating  \n",
       "0   7.982  \n",
       "1   7.670  \n",
       "2   7.637  \n",
       "3   7.212  \n",
       "4   7.017  "
      ]
     },
     "execution_count": 4,
     "metadata": {},
     "output_type": "execute_result"
    }
   ],
   "source": [
    "df.head()"
   ]
  },
  {
   "cell_type": "code",
   "execution_count": 5,
   "metadata": {},
   "outputs": [],
   "source": [
    "df.drop('cast', axis=1, inplace=True)"
   ]
  },
  {
   "cell_type": "code",
   "execution_count": 6,
   "metadata": {},
   "outputs": [
    {
     "data": {
      "text/html": [
       "<div>\n",
       "<style scoped>\n",
       "    .dataframe tbody tr th:only-of-type {\n",
       "        vertical-align: middle;\n",
       "    }\n",
       "\n",
       "    .dataframe tbody tr th {\n",
       "        vertical-align: top;\n",
       "    }\n",
       "\n",
       "    .dataframe thead th {\n",
       "        text-align: right;\n",
       "    }\n",
       "</style>\n",
       "<table border=\"1\" class=\"dataframe\">\n",
       "  <thead>\n",
       "    <tr style=\"text-align: right;\">\n",
       "      <th></th>\n",
       "      <th>title</th>\n",
       "      <th>overview</th>\n",
       "      <th>release_date</th>\n",
       "      <th>genres</th>\n",
       "      <th>runtime</th>\n",
       "      <th>rating</th>\n",
       "    </tr>\n",
       "  </thead>\n",
       "  <tbody>\n",
       "    <tr>\n",
       "      <th>3360</th>\n",
       "      <td>Interceptor</td>\n",
       "      <td>A U.S. Army Captain uses her years of tactical...</td>\n",
       "      <td>2022-05-26</td>\n",
       "      <td>['Action', 'Thriller', 'Adventure']</td>\n",
       "      <td>98</td>\n",
       "      <td>6.058</td>\n",
       "    </tr>\n",
       "  </tbody>\n",
       "</table>\n",
       "</div>"
      ],
      "text/plain": [
       "            title                                           overview  \\\n",
       "3360  Interceptor  A U.S. Army Captain uses her years of tactical...   \n",
       "\n",
       "     release_date                               genres  runtime  rating  \n",
       "3360   2022-05-26  ['Action', 'Thriller', 'Adventure']       98   6.058  "
      ]
     },
     "execution_count": 6,
     "metadata": {},
     "output_type": "execute_result"
    }
   ],
   "source": [
    "df.sample()"
   ]
  },
  {
   "cell_type": "code",
   "execution_count": 7,
   "metadata": {},
   "outputs": [],
   "source": [
    "current_directory = os.getcwd()\n",
    "file_path1 = os.path.join(current_directory,\"data\", \"raw\", \"movie_cast.csv\")\n",
    "\n",
    "try:\n",
    "    df_cast = pd.read_csv(file_path1)\n",
    "except FileNotFoundError:\n",
    "    print(f\"File not found: {file_path1}\")"
   ]
  },
  {
   "cell_type": "code",
   "execution_count": 8,
   "metadata": {},
   "outputs": [
    {
     "data": {
      "text/html": [
       "<div>\n",
       "<style scoped>\n",
       "    .dataframe tbody tr th:only-of-type {\n",
       "        vertical-align: middle;\n",
       "    }\n",
       "\n",
       "    .dataframe tbody tr th {\n",
       "        vertical-align: top;\n",
       "    }\n",
       "\n",
       "    .dataframe thead th {\n",
       "        text-align: right;\n",
       "    }\n",
       "</style>\n",
       "<table border=\"1\" class=\"dataframe\">\n",
       "  <thead>\n",
       "    <tr style=\"text-align: right;\">\n",
       "      <th></th>\n",
       "      <th>id</th>\n",
       "      <th>cast</th>\n",
       "    </tr>\n",
       "  </thead>\n",
       "  <tbody>\n",
       "    <tr>\n",
       "      <th>0</th>\n",
       "      <td>533535</td>\n",
       "      <td>['Ryan Reynolds', 'Hugh Jackman', 'Emma Corrin...</td>\n",
       "    </tr>\n",
       "    <tr>\n",
       "      <th>1</th>\n",
       "      <td>573435</td>\n",
       "      <td>['Will Smith', 'Martin Lawrence', 'Vanessa Hud...</td>\n",
       "    </tr>\n",
       "    <tr>\n",
       "      <th>2</th>\n",
       "      <td>762441</td>\n",
       "      <td>[\"Lupita Nyong'o\", 'Joseph Quinn', 'Alex Wolff...</td>\n",
       "    </tr>\n",
       "    <tr>\n",
       "      <th>3</th>\n",
       "      <td>1022789</td>\n",
       "      <td>['Amy Poehler', 'Maya Hawke', 'Kensington Tall...</td>\n",
       "    </tr>\n",
       "    <tr>\n",
       "      <th>4</th>\n",
       "      <td>519182</td>\n",
       "      <td>['Steve Carell', 'Kristen Wiig', 'Joey King', ...</td>\n",
       "    </tr>\n",
       "  </tbody>\n",
       "</table>\n",
       "</div>"
      ],
      "text/plain": [
       "        id                                               cast\n",
       "0   533535  ['Ryan Reynolds', 'Hugh Jackman', 'Emma Corrin...\n",
       "1   573435  ['Will Smith', 'Martin Lawrence', 'Vanessa Hud...\n",
       "2   762441  [\"Lupita Nyong'o\", 'Joseph Quinn', 'Alex Wolff...\n",
       "3  1022789  ['Amy Poehler', 'Maya Hawke', 'Kensington Tall...\n",
       "4   519182  ['Steve Carell', 'Kristen Wiig', 'Joey King', ..."
      ]
     },
     "execution_count": 8,
     "metadata": {},
     "output_type": "execute_result"
    }
   ],
   "source": [
    "df_cast.head()"
   ]
  },
  {
   "cell_type": "code",
   "execution_count": 9,
   "metadata": {},
   "outputs": [],
   "source": [
    "df_final = pd.concat([df,df_cast], axis=1)"
   ]
  },
  {
   "cell_type": "code",
   "execution_count": 10,
   "metadata": {},
   "outputs": [],
   "source": [
    "df_final.drop('id', axis=1,inplace=True)"
   ]
  },
  {
   "cell_type": "code",
   "execution_count": 11,
   "metadata": {},
   "outputs": [
    {
     "data": {
      "text/html": [
       "<div>\n",
       "<style scoped>\n",
       "    .dataframe tbody tr th:only-of-type {\n",
       "        vertical-align: middle;\n",
       "    }\n",
       "\n",
       "    .dataframe tbody tr th {\n",
       "        vertical-align: top;\n",
       "    }\n",
       "\n",
       "    .dataframe thead th {\n",
       "        text-align: right;\n",
       "    }\n",
       "</style>\n",
       "<table border=\"1\" class=\"dataframe\">\n",
       "  <thead>\n",
       "    <tr style=\"text-align: right;\">\n",
       "      <th></th>\n",
       "      <th>title</th>\n",
       "      <th>overview</th>\n",
       "      <th>release_date</th>\n",
       "      <th>genres</th>\n",
       "      <th>runtime</th>\n",
       "      <th>rating</th>\n",
       "      <th>cast</th>\n",
       "    </tr>\n",
       "  </thead>\n",
       "  <tbody>\n",
       "    <tr>\n",
       "      <th>0</th>\n",
       "      <td>Deadpool &amp; Wolverine</td>\n",
       "      <td>A listless Wade Wilson toils away in civilian ...</td>\n",
       "      <td>2024-07-24</td>\n",
       "      <td>['Action', 'Comedy', 'Science Fiction']</td>\n",
       "      <td>128</td>\n",
       "      <td>7.982</td>\n",
       "      <td>['Ryan Reynolds', 'Hugh Jackman', 'Emma Corrin...</td>\n",
       "    </tr>\n",
       "    <tr>\n",
       "      <th>1</th>\n",
       "      <td>Bad Boys: Ride or Die</td>\n",
       "      <td>After their late former Captain is framed, Low...</td>\n",
       "      <td>2024-06-05</td>\n",
       "      <td>['Action', 'Crime', 'Thriller', 'Comedy']</td>\n",
       "      <td>115</td>\n",
       "      <td>7.670</td>\n",
       "      <td>['Will Smith', 'Martin Lawrence', 'Vanessa Hud...</td>\n",
       "    </tr>\n",
       "    <tr>\n",
       "      <th>2</th>\n",
       "      <td>Inside Out 2</td>\n",
       "      <td>Teenager Riley's mind headquarters is undergoi...</td>\n",
       "      <td>2024-06-11</td>\n",
       "      <td>['Animation', 'Family', 'Adventure', 'Comedy']</td>\n",
       "      <td>97</td>\n",
       "      <td>7.637</td>\n",
       "      <td>[\"Lupita Nyong'o\", 'Joseph Quinn', 'Alex Wolff...</td>\n",
       "    </tr>\n",
       "    <tr>\n",
       "      <th>3</th>\n",
       "      <td>Despicable Me 4</td>\n",
       "      <td>Gru and Lucy and their girls — Margo, Edith an...</td>\n",
       "      <td>2024-06-20</td>\n",
       "      <td>['Animation', 'Family', 'Comedy', 'Action']</td>\n",
       "      <td>94</td>\n",
       "      <td>7.212</td>\n",
       "      <td>['Amy Poehler', 'Maya Hawke', 'Kensington Tall...</td>\n",
       "    </tr>\n",
       "    <tr>\n",
       "      <th>4</th>\n",
       "      <td>A Quiet Place: Day One</td>\n",
       "      <td>As New York City is invaded by alien creatures...</td>\n",
       "      <td>2024-06-26</td>\n",
       "      <td>['Horror', 'Science Fiction', 'Thriller']</td>\n",
       "      <td>99</td>\n",
       "      <td>7.017</td>\n",
       "      <td>['Steve Carell', 'Kristen Wiig', 'Joey King', ...</td>\n",
       "    </tr>\n",
       "  </tbody>\n",
       "</table>\n",
       "</div>"
      ],
      "text/plain": [
       "                    title                                           overview  \\\n",
       "0    Deadpool & Wolverine  A listless Wade Wilson toils away in civilian ...   \n",
       "1   Bad Boys: Ride or Die  After their late former Captain is framed, Low...   \n",
       "2            Inside Out 2  Teenager Riley's mind headquarters is undergoi...   \n",
       "3         Despicable Me 4  Gru and Lucy and their girls — Margo, Edith an...   \n",
       "4  A Quiet Place: Day One  As New York City is invaded by alien creatures...   \n",
       "\n",
       "  release_date                                          genres  runtime  \\\n",
       "0   2024-07-24         ['Action', 'Comedy', 'Science Fiction']      128   \n",
       "1   2024-06-05       ['Action', 'Crime', 'Thriller', 'Comedy']      115   \n",
       "2   2024-06-11  ['Animation', 'Family', 'Adventure', 'Comedy']       97   \n",
       "3   2024-06-20     ['Animation', 'Family', 'Comedy', 'Action']       94   \n",
       "4   2024-06-26       ['Horror', 'Science Fiction', 'Thriller']       99   \n",
       "\n",
       "   rating                                               cast  \n",
       "0   7.982  ['Ryan Reynolds', 'Hugh Jackman', 'Emma Corrin...  \n",
       "1   7.670  ['Will Smith', 'Martin Lawrence', 'Vanessa Hud...  \n",
       "2   7.637  [\"Lupita Nyong'o\", 'Joseph Quinn', 'Alex Wolff...  \n",
       "3   7.212  ['Amy Poehler', 'Maya Hawke', 'Kensington Tall...  \n",
       "4   7.017  ['Steve Carell', 'Kristen Wiig', 'Joey King', ...  "
      ]
     },
     "execution_count": 11,
     "metadata": {},
     "output_type": "execute_result"
    }
   ],
   "source": [
    "df_final.head()"
   ]
  },
  {
   "cell_type": "code",
   "execution_count": 18,
   "metadata": {},
   "outputs": [],
   "source": [
    "import os\n",
    "\n",
    "directory = \"E:\\\\Git Uploads\\\\CineMatch\\\\notebook\\\\data\\\\raw\"\n",
    "df_final.to_csv(os.path.join(directory, \"final_movie_data.csv\"), index=False)"
   ]
  },
  {
   "cell_type": "markdown",
   "metadata": {},
   "source": [
    "**Data Dimension**"
   ]
  },
  {
   "cell_type": "code",
   "execution_count": 41,
   "metadata": {},
   "outputs": [
    {
     "name": "stdout",
     "output_type": "stream",
     "text": [
      "No. Of Movies: 5000\n",
      "No. Of Features: 5\n"
     ]
    }
   ],
   "source": [
    "print(f\"No. Of Movies: {df.shape[0]}\")\n",
    "print(f\"No. Of Features: {df.shape[1]}\")"
   ]
  },
  {
   "cell_type": "markdown",
   "metadata": {},
   "source": [
    "**Checking Missing values**"
   ]
  },
  {
   "cell_type": "code",
   "execution_count": 35,
   "metadata": {},
   "outputs": [
    {
     "data": {
      "text/plain": [
       "id                   0\n",
       "title                0\n",
       "overview            18\n",
       "genres               0\n",
       "actors_actresses     0\n",
       "dtype: int64"
      ]
     },
     "execution_count": 35,
     "metadata": {},
     "output_type": "execute_result"
    }
   ],
   "source": [
    "df.isnull().sum()"
   ]
  },
  {
   "cell_type": "markdown",
   "metadata": {},
   "source": [
    "**Handling Missing Values**"
   ]
  },
  {
   "cell_type": "code",
   "execution_count": 36,
   "metadata": {},
   "outputs": [],
   "source": [
    "df.fillna('',inplace=True)"
   ]
  },
  {
   "cell_type": "code",
   "execution_count": 37,
   "metadata": {},
   "outputs": [
    {
     "data": {
      "text/plain": [
       "id                  0\n",
       "title               0\n",
       "overview            0\n",
       "genres              0\n",
       "actors_actresses    0\n",
       "dtype: int64"
      ]
     },
     "execution_count": 37,
     "metadata": {},
     "output_type": "execute_result"
    }
   ],
   "source": [
    "df.isnull().sum()"
   ]
  },
  {
   "cell_type": "code",
   "execution_count": 42,
   "metadata": {},
   "outputs": [
    {
     "name": "stdout",
     "output_type": "stream",
     "text": [
      "\n",
      "Unique values in genres:\n",
      "['[]']\n"
     ]
    }
   ],
   "source": [
    "for col in ['genres']:\n",
    "    print(f\"\\nUnique values in {col}:\")\n",
    "    print(df[col].explode().unique())"
   ]
  },
  {
   "cell_type": "code",
   "execution_count": 44,
   "metadata": {},
   "outputs": [
    {
     "data": {
      "text/plain": [
       "0       []\n",
       "1       []\n",
       "2       []\n",
       "3       []\n",
       "4       []\n",
       "        ..\n",
       "4995    []\n",
       "4996    []\n",
       "4997    []\n",
       "4998    []\n",
       "4999    []\n",
       "Name: genres, Length: 5000, dtype: object"
      ]
     },
     "execution_count": 44,
     "metadata": {},
     "output_type": "execute_result"
    }
   ],
   "source": [
    "df['genres']"
   ]
  },
  {
   "cell_type": "code",
   "execution_count": null,
   "metadata": {},
   "outputs": [],
   "source": []
  },
  {
   "cell_type": "code",
   "execution_count": null,
   "metadata": {},
   "outputs": [],
   "source": []
  },
  {
   "cell_type": "code",
   "execution_count": null,
   "metadata": {},
   "outputs": [],
   "source": []
  },
  {
   "cell_type": "code",
   "execution_count": null,
   "metadata": {},
   "outputs": [],
   "source": []
  }
 ],
 "metadata": {
  "kernelspec": {
   "display_name": "Python 3",
   "language": "python",
   "name": "python3"
  },
  "language_info": {
   "codemirror_mode": {
    "name": "ipython",
    "version": 3
   },
   "file_extension": ".py",
   "mimetype": "text/x-python",
   "name": "python",
   "nbconvert_exporter": "python",
   "pygments_lexer": "ipython3",
   "version": "3.12.0"
  }
 },
 "nbformat": 4,
 "nbformat_minor": 2
}
